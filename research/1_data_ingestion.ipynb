{
 "cells": [
  {
   "cell_type": "code",
   "execution_count": 7,
   "id": "64691fa1",
   "metadata": {},
   "outputs": [
    {
     "data": {
      "text/plain": [
       "'d:\\\\Desktop\\\\MLOPS\\\\DataScienceProject'"
      ]
     },
     "execution_count": 7,
     "metadata": {},
     "output_type": "execute_result"
    }
   ],
   "source": [
    "import os\n",
    "\n",
    "%pwd"
   ]
  },
  {
   "cell_type": "code",
   "execution_count": 2,
   "id": "24ea634b",
   "metadata": {},
   "outputs": [
    {
     "data": {
      "text/plain": [
       "'d:\\\\Desktop\\\\MLOPS\\\\DataScienceProject'"
      ]
     },
     "execution_count": 2,
     "metadata": {},
     "output_type": "execute_result"
    }
   ],
   "source": [
    "os.chdir(\"../\")\n",
    "%pwd"
   ]
  },
  {
   "cell_type": "code",
   "execution_count": 8,
   "id": "88b3b1c4",
   "metadata": {},
   "outputs": [],
   "source": [
    "from dataclasses import dataclass\n",
    "from pathlib import Path\n",
    "\n",
    "# only difference in data class and normal class is in normal class we need self keyword to \n",
    "# assign value here we dont need it \n",
    "\n",
    "@dataclass()\n",
    "class DataIngestionConfig:\n",
    "    root_dir: Path\n",
    "    source_url: str\n",
    "    local_data_file: Path\n",
    "    unzip_dir: Path\n",
    "    "
   ]
  },
  {
   "cell_type": "code",
   "execution_count": 9,
   "id": "eed90229",
   "metadata": {},
   "outputs": [],
   "source": [
    "# Reload the constants module to get updated paths\n",
    "import importlib\n",
    "import src.datascienceproject.constants\n",
    "importlib.reload(src.datascienceproject.constants)\n",
    "from src.datascienceproject.constants import *\n",
    "from src.datascienceproject.utils.common import read_yaml,create_directories"
   ]
  },
  {
   "cell_type": "code",
   "execution_count": 10,
   "id": "d0d08085",
   "metadata": {},
   "outputs": [
    {
     "name": "stdout",
     "output_type": "stream",
     "text": [
      "CONFIG_FILE_PATH: config\\config.yaml\n",
      "CONFIG_FILE_PATH exists: True\n",
      "PARAMS_FILE_PATH: params.yaml\n",
      "PARAMS_FILE_PATH exists: True\n",
      "SCHEMA_FILE_PATH: schema.yaml\n",
      "SCHEMA_FILE_PATH exists: True\n"
     ]
    }
   ],
   "source": [
    "# Verify the paths are correct\n",
    "print(f\"CONFIG_FILE_PATH: {CONFIG_FILE_PATH}\")\n",
    "print(f\"CONFIG_FILE_PATH exists: {CONFIG_FILE_PATH.exists()}\")\n",
    "print(f\"PARAMS_FILE_PATH: {PARAMS_FILE_PATH}\")\n",
    "print(f\"PARAMS_FILE_PATH exists: {PARAMS_FILE_PATH.exists()}\")\n",
    "print(f\"SCHEMA_FILE_PATH: {SCHEMA_FILE_PATH}\")\n",
    "print(f\"SCHEMA_FILE_PATH exists: {SCHEMA_FILE_PATH.exists()}\")\n"
   ]
  },
  {
   "cell_type": "code",
   "execution_count": 11,
   "id": "0bee3040",
   "metadata": {},
   "outputs": [],
   "source": [
    "class ConfigurationManager:\n",
    "    def __init__(self,config_filepath=CONFIG_FILE_PATH,\n",
    "                params_filepath=PARAMS_FILE_PATH,\n",
    "                schema_filepath=SCHEMA_FILE_PATH):\n",
    "\n",
    "        self.config=read_yaml(config_filepath)\n",
    "        self.params=read_yaml(params_filepath)\n",
    "        self.schema=read_yaml(schema_filepath)\n",
    "\n",
    "        create_directories([self.config.artifacts_root])\n",
    "    \n",
    "\n",
    "    def get_data_ingestion_config(self)->DataIngestionConfig:\n",
    "        config=self.config.data_ingestion\n",
    "        create_directories([config.root_dir])\n",
    "\n",
    "        data_ingestion_config=DataIngestionConfig(\n",
    "            root_dir=config.root_dir,\n",
    "            source_url=config.source_url,\n",
    "            local_data_file=config.local_data_file,\n",
    "            unzip_dir=config.unzip_dir\n",
    "        )\n",
    "        return data_ingestion_config\n",
    "        "
   ]
  },
  {
   "cell_type": "code",
   "execution_count": 12,
   "id": "1f0aa9b6",
   "metadata": {},
   "outputs": [],
   "source": [
    "from src.datascienceproject import logger\n",
    "from urllib import request\n",
    "import os\n",
    "import zipfile"
   ]
  },
  {
   "cell_type": "code",
   "execution_count": 13,
   "id": "7128c5a6",
   "metadata": {},
   "outputs": [],
   "source": [
    "# data ingestion component\n",
    "\n",
    "class DataIngestion:\n",
    "    def __init__(self,config:DataIngestionConfig):\n",
    "        self.config=config\n",
    "    \n",
    "    # downloading zip file from github link in config.yaml file\n",
    "    def download_file(self):\n",
    "        if not os.path.exists(self.config.local_data_file):\n",
    "            filename,headers=request.urlretrieve(\n",
    "                url=self.config.source_url,\n",
    "                filename=self.config.local_data_file\n",
    "            )\n",
    "            logger.info(f\"file: {filename} downloaded with following info: {headers}\")\n",
    "        else:\n",
    "            logger.info(f\"file already exists of size\")\n",
    "    \n",
    "    # extract zipfile\n",
    "    def extract_zip_file(self):\n",
    "        unzip_path=self.config.unzip_dir\n",
    "        os.makedirs(unzip_path,exist_ok=True)\n",
    "        with zipfile.ZipFile(self.config.local_data_file,'r') as zip_ref:\n",
    "            zip_ref.extractall(unzip_path)\n",
    "    \n",
    "\n",
    "    \n",
    "\n",
    "   \n",
    "        \n",
    "            "
   ]
  },
  {
   "cell_type": "code",
   "execution_count": 15,
   "id": "7a13b334",
   "metadata": {},
   "outputs": [
    {
     "name": "stdout",
     "output_type": "stream",
     "text": [
      "[2025-10-14 23:24:11,164]:INFO:common:yaml file: config\\config.yaml loaded successfully\n",
      "[2025-10-14 23:24:11,167]:INFO:common:yaml file: params.yaml loaded successfully\n",
      "[2025-10-14 23:24:11,169]:INFO:common:yaml file: schema.yaml loaded successfully\n",
      "[2025-10-14 23:24:11,171]:INFO:common:created directory at: artifacts\n",
      "[2025-10-14 23:24:11,171]:INFO:common:created directory at: artifacts/data_ingestion\n",
      "[2025-10-14 23:24:12,191]:INFO:3241061009:file: artifacts/data_ingestion/data.zip downloaded with following info: Connection: close\n",
      "Content-Length: 23329\n",
      "Cache-Control: max-age=300\n",
      "Content-Security-Policy: default-src 'none'; style-src 'unsafe-inline'; sandbox\n",
      "Content-Type: application/zip\n",
      "ETag: \"c69888a4ae59bc5a893392785a938ccd4937981c06ba8a9d6a21aa52b4ab5b6e\"\n",
      "Strict-Transport-Security: max-age=31536000\n",
      "X-Content-Type-Options: nosniff\n",
      "X-Frame-Options: deny\n",
      "X-XSS-Protection: 1; mode=block\n",
      "X-GitHub-Request-Id: D70A:3AF089:1AEBE4:393E7F:68EE8E41\n",
      "Accept-Ranges: bytes\n",
      "Date: Tue, 14 Oct 2025 17:54:12 GMT\n",
      "Via: 1.1 varnish\n",
      "X-Served-By: cache-del21742-DEL\n",
      "X-Cache: MISS\n",
      "X-Cache-Hits: 0\n",
      "X-Timer: S1760464452.824847,VS0,VE373\n",
      "Vary: Authorization,Accept-Encoding\n",
      "Access-Control-Allow-Origin: *\n",
      "Cross-Origin-Resource-Policy: cross-origin\n",
      "X-Fastly-Request-ID: cd7c08e0b43b94cd5fbd2ebf73409ce470438bb0\n",
      "Expires: Tue, 14 Oct 2025 17:59:12 GMT\n",
      "Source-Age: 0\n",
      "\n",
      "\n"
     ]
    }
   ],
   "source": [
    "try:\n",
    "    config=ConfigurationManager()\n",
    "    data_ingestion_config=config.get_data_ingestion_config()\n",
    "    data_ingestion=DataIngestion(config=data_ingestion_config)\n",
    "    data_ingestion.download_file()\n",
    "    data_ingestion.extract_zip_file()\n",
    "except Exception as e:\n",
    "    raise e\n"
   ]
  }
 ],
 "metadata": {
  "kernelspec": {
   "display_name": ".venv",
   "language": "python",
   "name": "python3"
  },
  "language_info": {
   "codemirror_mode": {
    "name": "ipython",
    "version": 3
   },
   "file_extension": ".py",
   "mimetype": "text/x-python",
   "name": "python",
   "nbconvert_exporter": "python",
   "pygments_lexer": "ipython3",
   "version": "3.12.10"
  }
 },
 "nbformat": 4,
 "nbformat_minor": 5
}
